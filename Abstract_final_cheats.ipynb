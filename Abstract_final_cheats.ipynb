{
  "nbformat": 4,
  "nbformat_minor": 0,
  "metadata": {
    "colab": {
      "name": "Abstract_final_cheats.ipynb",
      "provenance": [],
      "collapsed_sections": [],
      "include_colab_link": true
    },
    "kernelspec": {
      "name": "python3",
      "display_name": "Python 3"
    },
    "language_info": {
      "name": "python"
    }
  },
  "cells": [
    {
      "cell_type": "markdown",
      "metadata": {
        "id": "view-in-github",
        "colab_type": "text"
      },
      "source": [
        "<a href=\"https://colab.research.google.com/github/kankeinai/Math-cheats/blob/main/Abstract_final_cheats.ipynb\" target=\"_parent\"><img src=\"https://colab.research.google.com/assets/colab-badge.svg\" alt=\"Open In Colab\"/></a>"
      ]
    },
    {
      "cell_type": "code",
      "metadata": {
        "id": "t8UsxRLSpp2k"
      },
      "source": [
        "import numpy as np\n",
        "from pprint import PrettyPrinter"
      ],
      "execution_count": 1,
      "outputs": []
    },
    {
      "cell_type": "code",
      "metadata": {
        "id": "SoPiICSzT1Vf"
      },
      "source": [
        "pp = PrettyPrinter(indent=4)"
      ],
      "execution_count": 2,
      "outputs": []
    },
    {
      "cell_type": "code",
      "metadata": {
        "id": "swxr1fmfGDpQ"
      },
      "source": [
        "def primfacs(n):\n",
        "   i = 2\n",
        "   prime = dict()\n",
        "   for i in range(2, round(np.sqrt(n))+1):\n",
        "       while n % i == 0:\n",
        "           prime[i] = prime.get(i, 0) + 1\n",
        "           n = n / i\n",
        "   if n > 1:\n",
        "       prime[n] = prime.get(n, 0) + 1\n",
        "   return prime"
      ],
      "execution_count": 3,
      "outputs": []
    },
    {
      "cell_type": "code",
      "metadata": {
        "colab": {
          "base_uri": "https://localhost:8080/"
        },
        "id": "cXseCWydGFCU",
        "outputId": "bdb5bde1-c234-47e2-ce8d-456744ace769"
      },
      "source": [
        "primfacs(240)"
      ],
      "execution_count": 4,
      "outputs": [
        {
          "output_type": "execute_result",
          "data": {
            "text/plain": [
              "{2: 4, 3: 1, 5: 1}"
            ]
          },
          "metadata": {},
          "execution_count": 4
        }
      ]
    },
    {
      "cell_type": "code",
      "metadata": {
        "id": "1qrpCLisGo9n"
      },
      "source": [
        "def phi(n):\n",
        "    prime = primfacs(n)\n",
        "    result = 1\n",
        "    for item in prime.keys():\n",
        "        result*= item**(prime[item]-1)*(item-1)\n",
        "    return round(result)\n"
      ],
      "execution_count": 5,
      "outputs": []
    },
    {
      "cell_type": "code",
      "metadata": {
        "colab": {
          "base_uri": "https://localhost:8080/"
        },
        "id": "Kz0TOhF2SHke",
        "outputId": "cb7fe404-3ebd-4502-b304-dfabae1a6ce3"
      },
      "source": [
        "phi(240)"
      ],
      "execution_count": 6,
      "outputs": [
        {
          "output_type": "execute_result",
          "data": {
            "text/plain": [
              "64"
            ]
          },
          "metadata": {},
          "execution_count": 6
        }
      ]
    },
    {
      "cell_type": "code",
      "metadata": {
        "id": "L5flDB1KpgKV"
      },
      "source": [
        "def get_needed_devisors(n):\n",
        "    divisors = set()\n",
        "    for i in range(2, round(np.sqrt(n))+1):\n",
        "        if n%i == 0:\n",
        "            divisors.add(i)\n",
        "            divisors.add(int(n/i))\n",
        "    divisors = list(divisors)\n",
        "    divisors.sort()\n",
        "    return divisors\n"
      ],
      "execution_count": 7,
      "outputs": []
    },
    {
      "cell_type": "code",
      "metadata": {
        "id": "T4NEBwfjPElt"
      },
      "source": [
        "def aModM(num, mod):\n",
        "    number = 0;\n",
        "    for i in range(len(num)): \n",
        "        number = number*10 + int(num[i]);\n",
        "        number %= mod;\n",
        "    return number;"
      ],
      "execution_count": 8,
      "outputs": []
    },
    {
      "cell_type": "code",
      "metadata": {
        "id": "YM2aUuUkPXcA"
      },
      "source": [
        "def clever_mod(num, deg, mod):\n",
        "    ans = aModM(str(num), mod);\n",
        "    mul = ans;\n",
        "    for i in range(1, deg):\n",
        "        ans = (ans*mul) % mod;\n",
        "    return ans;\n"
      ],
      "execution_count": 9,
      "outputs": []
    },
    {
      "cell_type": "code",
      "metadata": {
        "colab": {
          "base_uri": "https://localhost:8080/"
        },
        "id": "BsuisjhhP8vH",
        "outputId": "1692158e-3fb9-4101-83cc-f043d7042089"
      },
      "source": [
        "clever_mod(29678, 2016, 23)"
      ],
      "execution_count": 11,
      "outputs": [
        {
          "output_type": "execute_result",
          "data": {
            "text/plain": [
              "6"
            ]
          },
          "metadata": {},
          "execution_count": 11
        }
      ]
    },
    {
      "cell_type": "code",
      "metadata": {
        "id": "UjsraLoVqcBL"
      },
      "source": [
        "def check_gen(n):\n",
        "    if phi(n)!=n-1:\n",
        "        print(\"It is not cyclic, bro\")\n",
        "        return \n",
        "\n",
        "    elem = np.arange(2, n)\n",
        "    divisors = get_needed_devisors(n-1)\n",
        "\n",
        "    for item in elem:\n",
        "        mods = [clever_mod(item, div, n) for div in divisors]\n",
        "        if mods.count(1)==0:\n",
        "            results = dict()\n",
        "            for deg, mod in zip(divisors, mods):\n",
        "                results[f\"{item}^{deg} mod {n}\"] = mod\n",
        "            print(f\"Number of generators: {phi(n-1)}\\nDivisors of {n-1}: {divisors},\\nGenerator: {item},\\nMods:\")\n",
        "            pp.pprint(results)\n",
        "            print(f\"Final check: ({item}^{n-1})mod({n}) = {clever_mod(item,n-1,n)}\")\n",
        "            return item\n",
        "    return \"Mya\"\n"
      ],
      "execution_count": 12,
      "outputs": []
    },
    {
      "cell_type": "code",
      "metadata": {
        "colab": {
          "base_uri": "https://localhost:8080/"
        },
        "id": "TjgkXxtBqzHd",
        "outputId": "25f0ac43-06cb-49ed-acee-70091e1c4b75"
      },
      "source": [
        "generator = check_gen(1999)"
      ],
      "execution_count": 13,
      "outputs": [
        {
          "output_type": "stream",
          "name": "stdout",
          "text": [
            "Number of generators: 648\n",
            "Divisors of 1998: [2, 3, 6, 9, 18, 27, 37, 54, 74, 111, 222, 333, 666, 999],\n",
            "Generator: 3,\n",
            "Mods:\n",
            "{   '3^111 mod 1999': 1130,\n",
            "    '3^18 mod 1999': 296,\n",
            "    '3^2 mod 1999': 9,\n",
            "    '3^222 mod 1999': 1538,\n",
            "    '3^27 mod 1999': 1082,\n",
            "    '3^3 mod 1999': 27,\n",
            "    '3^333 mod 1999': 809,\n",
            "    '3^37 mod 1999': 979,\n",
            "    '3^54 mod 1999': 1309,\n",
            "    '3^6 mod 1999': 729,\n",
            "    '3^666 mod 1999': 808,\n",
            "    '3^74 mod 1999': 920,\n",
            "    '3^9 mod 1999': 1692,\n",
            "    '3^999 mod 1999': 1998}\n",
            "Final check: (3^1998)mod(1999) = 1\n"
          ]
        }
      ]
    },
    {
      "cell_type": "code",
      "metadata": {
        "id": "c_3iQNFmhlR-"
      },
      "source": [
        "def gcd(m, n):\n",
        "    m = primfacs(m)\n",
        "    n = primfacs(n)\n",
        "    d = 1 \n",
        "    for key_m in m.keys():\n",
        "        if key_m in n.keys():\n",
        "            d *=  key_m**min(m[key_m], n[key_m])\n",
        "    return int(d)\n",
        "    "
      ],
      "execution_count": 14,
      "outputs": []
    },
    {
      "cell_type": "code",
      "metadata": {
        "id": "6QENgqgrcPnF",
        "colab": {
          "base_uri": "https://localhost:8080/"
        },
        "outputId": "00e8dd5b-ac80-45e0-fcc0-83b891bd37a8"
      },
      "source": [
        "gcd(10, 2)"
      ],
      "execution_count": 25,
      "outputs": [
        {
          "output_type": "execute_result",
          "data": {
            "text/plain": [
              "2"
            ]
          },
          "metadata": {},
          "execution_count": 25
        }
      ]
    },
    {
      "cell_type": "code",
      "metadata": {
        "id": "ekVy7E--eKhI"
      },
      "source": [
        "def n_th_roots(n):\n",
        "    generator = check_gen(n)\n",
        "    divisors = [1]+get_needed_devisors(n-1)+[n-1]\n",
        "    elem = np.arange(1, n)\n",
        "    roots_dict = dict()\n",
        "    for div in divisors[::-1]:\n",
        "        prime = [m for m in elem if gcd(m, n-1) == (n-1)/div]\n",
        "        roots_dict[div] = [clever_mod(generator, m, n) for m in prime]\n",
        "    \n",
        "    count = 0\n",
        "    for key in roots_dict.keys():\n",
        "        c = len(roots_dict[key])\n",
        "        count+=c\n",
        "        print(f\"{key}th root, num of roots {c}, phi({key})={phi(key)}, {phi(key)==c}\\n{roots_dict[key]}\")\n",
        "    print(f\"Total: {count}\")\n",
        "        \n",
        "    return roots_dict"
      ],
      "execution_count": 51,
      "outputs": []
    },
    {
      "cell_type": "code",
      "metadata": {
        "colab": {
          "base_uri": "https://localhost:8080/"
        },
        "id": "GTNO-iZrhbte",
        "outputId": "8af83505-c86e-41a2-c2f7-7e94fb4de176"
      },
      "source": [
        "roots = n_th_roots(113)"
      ],
      "execution_count": 52,
      "outputs": [
        {
          "output_type": "stream",
          "name": "stdout",
          "text": [
            "Number of generators: 48\n",
            "Divisors of 112: [2, 4, 7, 8, 14, 16, 28, 56],\n",
            "Generator: 3,\n",
            "Mods:\n",
            "{   '3^14 mod 113': 18,\n",
            "    '3^16 mod 113': 49,\n",
            "    '3^2 mod 113': 9,\n",
            "    '3^28 mod 113': 98,\n",
            "    '3^4 mod 113': 81,\n",
            "    '3^56 mod 113': 112,\n",
            "    '3^7 mod 113': 40,\n",
            "    '3^8 mod 113': 7}\n",
            "Final check: (3^112)mod(113) = 1\n",
            "112th root, num of roots 48, phi(112)=48, True\n",
            "[3, 27, 17, 21, 76, 6, 54, 34, 80, 39, 12, 108, 68, 47, 84, 24, 103, 23, 94, 55, 43, 93, 46, 75, 110, 86, 96, 92, 37, 107, 59, 79, 33, 74, 101, 5, 45, 66, 29, 89, 10, 90, 19, 58, 70, 20, 67, 38]\n",
            "56th root, num of roots 24, phi(56)=24, True\n",
            "[9, 51, 63, 102, 13, 36, 91, 26, 72, 52, 31, 25, 104, 62, 50, 11, 100, 77, 22, 87, 41, 61, 82, 88]\n",
            "28th root, num of roots 12, phi(28)=12, True\n",
            "[81, 2, 14, 8, 56, 53, 32, 111, 99, 105, 57, 60]\n",
            "16th root, num of roots 8, phi(16)=8, True\n",
            "[40, 42, 78, 48, 73, 71, 35, 65]\n",
            "14th root, num of roots 6, phi(14)=6, True\n",
            "[7, 4, 83, 64, 85, 97]\n",
            "8th root, num of roots 4, phi(8)=4, True\n",
            "[18, 69, 95, 44]\n",
            "7th root, num of roots 6, phi(7)=6, True\n",
            "[49, 28, 16, 106, 109, 30]\n",
            "4th root, num of roots 2, phi(4)=2, True\n",
            "[98, 15]\n",
            "2th root, num of roots 1, phi(2)=1, True\n",
            "[112]\n",
            "1th root, num of roots 1, phi(1)=1, True\n",
            "[1]\n",
            "Total: 112\n"
          ]
        }
      ]
    }
  ]
}